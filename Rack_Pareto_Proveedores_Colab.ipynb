{
 "cells": [
  {
   "cell_type": "markdown",
   "id": "f2ccc6a8",
   "metadata": {},
   "source": [
    "# 📊 Evaluación de Proveedores con el Modelo Rack Pareto\n",
    "Este cuaderno permite evaluar el desempeño de proveedores a partir de criterios como `Costo_total`, `Calidad`, `Entrega_oportuna` y `Nivel_servicio` usando el modelo **Rack Pareto**. Se clasifica a los proveedores en categorías A, B o C según su impacto en el costo total y desempeño."
   ]
  },
  {
   "cell_type": "markdown",
   "id": "673818d1",
   "metadata": {},
   "source": [
    "## 📚 Paso 1: Importar librerías necesarias"
   ]
  },
  {
   "cell_type": "code",
   "execution_count": null,
   "id": "6c97dec2",
   "metadata": {},
   "outputs": [],
   "source": [
    "import pandas as pd\n",
    "import numpy as np\n",
    "import matplotlib.pyplot as plt\n",
    "import seaborn as sns"
   ]
  },
  {
   "cell_type": "markdown",
   "id": "f041dee8",
   "metadata": {},
   "source": [
    "## 📂 Paso 2: Cargar archivo CSV con datos de proveedores"
   ]
  },
  {
   "cell_type": "code",
   "execution_count": null,
   "id": "695891ff",
   "metadata": {},
   "outputs": [],
   "source": [
    "# Asistente de carga para Google Colab\n",
    "from google.colab import files\n",
    "import io\n",
    "\n",
    "uploaded = files.upload()\n",
    "\n",
    "# Leer archivo subido\n",
    "for nombre in uploaded.keys():\n",
    "    df = pd.read_csv(io.BytesIO(uploaded[nombre]))\n",
    "    break\n",
    "\n",
    "# Vista previa\n",
    "df.head()"
   ]
  },
  {
   "cell_type": "markdown",
   "id": "7e84953d",
   "metadata": {},
   "source": [
    "## 📊 Paso 3: Análisis de Pareto por Costo Total"
   ]
  },
  {
   "cell_type": "code",
   "execution_count": null,
   "id": "6baf280e",
   "metadata": {},
   "outputs": [],
   "source": [
    "df_pareto = df.sort_values(by='Costo_total', ascending=False).reset_index(drop=True)\n",
    "df_pareto['Porcentaje'] = df_pareto['Costo_total'] / df_pareto['Costo_total'].sum() * 100\n",
    "df_pareto['Porcentaje Acumulado'] = df_pareto['Porcentaje'].cumsum()\n",
    "\n",
    "# Gráfico de Pareto\n",
    "plt.figure(figsize=(10, 5))\n",
    "sns.barplot(x='Proveedor', y='Porcentaje', data=df_pareto, color='skyblue')\n",
    "plt.plot(df_pareto['Proveedor'], df_pareto['Porcentaje Acumulado'], color='red', marker='o')\n",
    "plt.axhline(80, color='gray', linestyle='--')\n",
    "plt.title('Análisis de Pareto - Costo Total por Proveedor')\n",
    "plt.ylabel('% Contribución')\n",
    "plt.xticks(rotation=45)\n",
    "plt.grid(True)\n",
    "plt.tight_layout()\n",
    "plt.show()"
   ]
  },
  {
   "cell_type": "markdown",
   "id": "d14786df",
   "metadata": {},
   "source": [
    "## 🧮 Paso 4: Clasificación Rack Pareto y cálculo del desempeño"
   ]
  },
  {
   "cell_type": "code",
   "execution_count": null,
   "id": "a3f2bde8",
   "metadata": {},
   "outputs": [],
   "source": [
    "# Clasificación ABC basada en porcentaje acumulado\n",
    "df_pareto['Clasificación'] = pd.cut(df_pareto['Porcentaje Acumulado'],\n",
    "                                    bins=[0, 80, 95, 100],\n",
    "                                    labels=['A', 'B', 'C'])\n",
    "\n",
    "# Cálculo de desempeño promedio\n",
    "criterios = ['Calidad', 'Entrega_oportuna', 'Nivel_servicio']\n",
    "df_pareto['Score'] = df_pareto[criterios].mean(axis=1).round(2)\n",
    "\n",
    "# Mostrar resultados\n",
    "df_pareto[['Proveedor', 'Costo_total', 'Clasificación', 'Score'] + criterios]"
   ]
  },
  {
   "cell_type": "markdown",
   "id": "fd4d4588",
   "metadata": {},
   "source": [
    "## 💾 Paso 5: Exportar evaluación final"
   ]
  },
  {
   "cell_type": "code",
   "execution_count": null,
   "id": "c5ef08d5",
   "metadata": {},
   "outputs": [],
   "source": [
    "# Exportar a CSV para descarga\n",
    "df_pareto.to_csv('evaluacion_proveedores_rack_pareto.csv', index=False)\n",
    "from google.colab import files\n",
    "files.download('evaluacion_proveedores_rack_pareto.csv')"
   ]
  }
 ],
 "metadata": {},
 "nbformat": 4,
 "nbformat_minor": 5
}
